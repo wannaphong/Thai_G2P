{
 "cells": [
  {
   "cell_type": "code",
   "execution_count": 1,
   "metadata": {},
   "outputs": [],
   "source": [
    "#!pip install distance nltk pythainlp"
   ]
  },
  {
   "cell_type": "code",
   "execution_count": 220,
   "metadata": {},
   "outputs": [],
   "source": [
    "!python3 train.py --name run >  l1.txt"
   ]
  },
  {
   "cell_type": "code",
   "execution_count": 221,
   "metadata": {},
   "outputs": [
    {
     "name": "stdout",
     "output_type": "stream",
     "text": [
      "มี\n",
      "วิธี\n",
      "ดึง\n",
      "ข้อมูล\n",
      "คำ\n",
      "สะกด\n",
      "จาก\n",
      "วิกิ\n",
      "พจนานุกรม\n",
      "ไหม\n",
      "ครับผม\n",
      "กำลัง\n",
      "ต้องการ\n",
      "ตรง\n",
      "การ\n",
      "แบ่ง\n",
      "พยางค์\n",
      "จาก\n",
      "วิกิ\n",
      "พจนานุกรม\n",
      "ภาษาไทย\n",
      "ครับ\n",
      "มี วิ-ที ดึง ข้อ-มูน คำ สะ-กด จาก วิ-กิ พด-จะ-นา-นุ-กฺรม ไหฺม คฺรับ-ผม กำ-ลัง ต้อง-กาน ตฺรง กาน แบ่ง พะ-ยาง จาก วิ-กิ พด-จะ-นา-นุ-กฺรม พา-สา-ไท คฺรับ \n"
     ]
    }
   ],
   "source": [
    "!python3 g2p.py --text \"มีวิธีดึงข้อมูลคำสะกดจากวิกิพจนานุกรมไหมครับผมกำลังต้องการตรงการแบ่งพยางค์จากวิกิพจนานุกรมภาษาไทยครับ\""
   ]
  },
  {
   "cell_type": "code",
   "execution_count": 222,
   "metadata": {},
   "outputs": [
    {
     "name": "stdout",
     "output_type": "stream",
     "text": [
      "ชุมชน\n",
      "ผู้\n",
      "สนใจ\n",
      "การประมวลผล\n",
      "ภาษาธรรมชาติ\n",
      "ชุม-ชน พู่ สน-ไจ กาน-ปฺระ-มวน-ผน พา-สา-ทำ-มะ-ชาด \n"
     ]
    }
   ],
   "source": [
    "!python3 g2p.py --text \"ชุมชนผู้สนใจการประมวลผลภาษาธรรมชาติ\""
   ]
  },
  {
   "cell_type": "code",
   "execution_count": 223,
   "metadata": {},
   "outputs": [
    {
     "name": "stdout",
     "output_type": "stream",
     "text": [
      "เป็น\n",
      "ไลบรารี\n",
      "ภาษา\n",
      "ไพ\n",
      "ทอน\n",
      "สำหรับ\n",
      "ประมวลผล\n",
      "ภาษาธรรมชาติ\n",
      "เป็น ไล-บฺรา-รี พา-สา ไพ ทอน สำ-หฺรับ ปฺระ-มวน-ผน พา-สา-ทำ-มะ-ชาด \n"
     ]
    }
   ],
   "source": [
    "!python3 g2p.py --text \"เป็นไลบรารีภาษาไพทอนสำหรับประมวลผลภาษาธรรมชาติ\""
   ]
  },
  {
   "cell_type": "code",
   "execution_count": 9,
   "metadata": {},
   "outputs": [
    {
     "name": "stdout",
     "output_type": "stream",
     "text": [
      "เป็น\n",
      "ไลบรารี\n",
      "ภาษา\n",
      "ไพ\n",
      "ทอน\n",
      "สำหรับ\n",
      "ประมวลผล\n",
      "ภาษาธรรมชาติ\n",
      "เป็น ไล-บฺรา-รี พา-สา ไพ ทอน สำ-หฺรับ ปฺระ-มวน|ผน พา-สา|ทำ-มะ-ชาด \n"
     ]
    }
   ],
   "source": [
    "!python3 g2p.py --text \"เป็นไลบรารีภาษาไพทอนสำหรับประมวลผลภาษาธรรมชาติ\""
   ]
  },
  {
   "cell_type": "code",
   "execution_count": 224,
   "metadata": {},
   "outputs": [
    {
     "name": "stdout",
     "output_type": "stream",
     "text": [
      "เอา\r\n",
      "กระทง\r\n",
      "ที่\r\n",
      "บรรจุ\r\n",
      "ธูป\r\n",
      "เทียนดอก\r\n",
      "ไม้ใบ\r\n",
      "หญ้า\r\n",
      "ชา\r\n",
      "หญ้า\r\n",
      "หวาน\r\n",
      "ประชา\r\n",
      "ไท\r\n",
      "เอา กระ-ทง ที่ บัน-จุ ทูบ เทียน-ดอก ไม้-ไบ ย่า ชา ย่า หฺวาน ปฺระ-ชา ไท \r\n"
     ]
    }
   ],
   "source": [
    "!python3 g2p.py --text \"เอากระทงที่บรรจุธูปเทียนดอกไม้ใบหญ้าชาหญ้าหวานประชาไท\""
   ]
  },
  {
   "cell_type": "code",
   "execution_count": 44,
   "metadata": {},
   "outputs": [
    {
     "name": "stdout",
     "output_type": "stream",
     "text": [
      "เอา\r\n",
      "กระทง\r\n",
      "ที่\r\n",
      "บรรจุ\r\n",
      "ธูป\r\n",
      "เทียนดอก\r\n",
      "ไม้ใบ\r\n",
      "หญ้า\r\n",
      "ชา\r\n",
      "หญ้า\r\n",
      "หวาน\r\n",
      "ประชา\r\n",
      "ไท\r\n",
      "เอา กระ-ทง ที่ บัน-จุ ทูบ เทียน-ดอก ไม้-ไบ ย่า ชา ย่า หฺนาว ปฺระ-ชา ไท \r\n"
     ]
    }
   ],
   "source": [
    "!python3 g2p.py --text \"เอากระทงที่บรรจุธูปเทียนดอกไม้ใบหญ้าชาหญ้าหวานประชาไท\""
   ]
  },
  {
   "cell_type": "code",
   "execution_count": 15,
   "metadata": {},
   "outputs": [
    {
     "name": "stdout",
     "output_type": "stream",
     "text": [
      "อย่างไร\r\n",
      "ยอ|ไก่า|ไร \r\n"
     ]
    }
   ],
   "source": [
    "!python3 g2p.py --text \"อย่างไร\""
   ]
  },
  {
   "cell_type": "code",
   "execution_count": 225,
   "metadata": {},
   "outputs": [
    {
     "name": "stdout",
     "output_type": "stream",
     "text": [
      "อย่างไร\n",
      "หฺย่าง-ไร \n"
     ]
    }
   ],
   "source": [
    "!python3 g2p.py --text \"อย่างไร\""
   ]
  },
  {
   "cell_type": "code",
   "execution_count": 226,
   "metadata": {},
   "outputs": [
    {
     "name": "stdout",
     "output_type": "stream",
     "text": [
      "ยังไง\r\n",
      "ยัง-ไง \r\n"
     ]
    }
   ],
   "source": [
    "!python3 g2p.py --text \"ยังไง\""
   ]
  },
  {
   "cell_type": "code",
   "execution_count": 189,
   "metadata": {},
   "outputs": [
    {
     "name": "stdout",
     "output_type": "stream",
     "text": [
      "ยังไง\r\n",
      "ยัง-ไง \r\n"
     ]
    }
   ],
   "source": [
    "!python3 g2p.py --text \"ยังไง\""
   ]
  },
  {
   "cell_type": "code",
   "execution_count": 227,
   "metadata": {},
   "outputs": [
    {
     "name": "stdout",
     "output_type": "stream",
     "text": [
      "ออกลูก\r\n",
      "ออก-ลูก \r\n"
     ]
    }
   ],
   "source": [
    "!python3 g2p.py --text \"ออกลูก\""
   ]
  },
  {
   "cell_type": "code",
   "execution_count": 228,
   "metadata": {},
   "outputs": [
    {
     "name": "stdout",
     "output_type": "stream",
     "text": [
      "เกล้ากระผม\r\n",
      "เกฺล้า-กฺระ-ผม \r\n"
     ]
    }
   ],
   "source": [
    "!python3 g2p.py --text \"เกล้ากระผม\""
   ]
  },
  {
   "cell_type": "code",
   "execution_count": 229,
   "metadata": {},
   "outputs": [
    {
     "name": "stdout",
     "output_type": "stream",
     "text": [
      "อยาก\n",
      "ปฏิรูป\n",
      "ก่อน\n",
      "เลือกตั้ง\n",
      "พม่า\n",
      "ประเทศ\n",
      "สหรัฐ\n",
      "อ\n",
      "มา\n",
      "หฺยาก ปะ-ติ-รูบ ก่อน เลือก-ตั้ง พะ-ม่า ปฺระ-เทด สะ-หะ-รัด ออ มา \n"
     ]
    }
   ],
   "source": [
    "!python3 g2p.py --text \"อยากปฏิรูปก่อนเลือกตั้งพม่าประเทศสหรัฐอมา\""
   ]
  },
  {
   "cell_type": "code",
   "execution_count": 47,
   "metadata": {},
   "outputs": [
    {
     "name": "stdout",
     "output_type": "stream",
     "text": [
      "อยาก\n",
      "ปฎิรูป\n",
      "ก่อน\n",
      "เลือกตั้ง\n",
      "พม่า\n",
      "ประเทศ\n",
      "สหรัฐ\n",
      "อ\n",
      "มา\n",
      "หฺยาก ปะ-ปิด-รูบ ก่อน เลือก-ตั้ง พะ-ม่า ปฺระ-เทด สะ-หะ-รัด ออ มา \n"
     ]
    }
   ],
   "source": [
    "!python3 g2p.py --text \"อยากปฎิรูปก่อนเลือกตั้งพม่าประเทศสหรัฐอมา\""
   ]
  },
  {
   "cell_type": "code",
   "execution_count": 230,
   "metadata": {},
   "outputs": [
    {
     "name": "stdout",
     "output_type": "stream",
     "text": [
      "ผม\r\n",
      "ทำ\r\n",
      "โปรแกรมเมอร์\r\n",
      "ฟรี\r\n",
      "ผม ทำ โปฺร-แกฺรม-เมอ ฟฺรี \r\n"
     ]
    }
   ],
   "source": [
    "!python3 g2p.py --text \"ผมทำโปรแกรมเมอร์ฟรี\""
   ]
  },
  {
   "cell_type": "code",
   "execution_count": 231,
   "metadata": {},
   "outputs": [
    {
     "name": "stdout",
     "output_type": "stream",
     "text": [
      "ผม\r\n",
      "เชื้อสาย\r\n",
      "อเมริกา\r\n",
      "เป็น\r\n",
      "ประเทศ\r\n",
      "เสรีภาพ\r\n",
      "ผม เชื้อ-สาย อะ-เม-ริ-กา เป็น ปฺระ-เทด เส-รี-พาบ \r\n"
     ]
    }
   ],
   "source": [
    "!python3 g2p.py --text \"ผมเชื้อสายอเมริกาเป็นประเทศเสรีภาพ\""
   ]
  },
  {
   "cell_type": "code",
   "execution_count": 232,
   "metadata": {},
   "outputs": [
    {
     "name": "stdout",
     "output_type": "stream",
     "text": [
      "ไวรัส\r\n",
      "โควิด\r\n",
      "สิบ\r\n",
      "เก้า\r\n",
      "ไว-รัด โค-วิด สิบ เก้า \r\n"
     ]
    }
   ],
   "source": [
    "!python3 g2p.py --text \"ไวรัสโควิดสิบเก้า\""
   ]
  },
  {
   "cell_type": "code",
   "execution_count": 233,
   "metadata": {},
   "outputs": [
    {
     "name": "stdout",
     "output_type": "stream",
     "text": [
      "อาทิตย์\n",
      " \n",
      "สุริยะ\n",
      "วงศ์\n",
      "กุล\n",
      "อา-ทิด   สุ-ริ-ยะ วง กุน \n"
     ]
    }
   ],
   "source": [
    "!python3 g2p.py --text \"อาทิตย์ สุริยะวงศ์กุล\""
   ]
  },
  {
   "cell_type": "code",
   "execution_count": 234,
   "metadata": {},
   "outputs": [
    {
     "name": "stdout",
     "output_type": "stream",
     "text": [
      "นบ-พฺรัด-ตะ-นะ-ทา-ดา \r\n"
     ]
    }
   ],
   "source": [
    "!python3 g2p.py --text \"นพรัตนราชธานี\" --wordcut n"
   ]
  },
  {
   "cell_type": "code",
   "execution_count": 235,
   "metadata": {},
   "outputs": [
    {
     "name": "stdout",
     "output_type": "stream",
     "text": [
      "กรม\n",
      "สารบรรณ\n",
      "ทหารบก\n",
      "กอน-มอน สา-ระ-บัน ทะ-หาน-บก \n"
     ]
    }
   ],
   "source": [
    "!python3 g2p.py --text \"กรมสารบรรณทหารบก\""
   ]
  },
  {
   "cell_type": "code",
   "execution_count": 236,
   "metadata": {},
   "outputs": [
    {
     "name": "stdout",
     "output_type": "stream",
     "text": [
      "โค-เปอ-นิ-เซียม \r\n"
     ]
    }
   ],
   "source": [
    "!python3 g2p.py --text โคเปอร์นิเซียม --wordcut n"
   ]
  },
  {
   "cell_type": "code",
   "execution_count": 237,
   "metadata": {},
   "outputs": [
    {
     "name": "stdout",
     "output_type": "stream",
     "text": [
      "กฐินัตถารกรรม\r\n",
      "กะ-ถิ-นัด-ถา-ระ-กำ \r\n"
     ]
    }
   ],
   "source": [
    "!python3 g2p.py --text กฐินัตถารกรรม"
   ]
  },
  {
   "cell_type": "code",
   "execution_count": 238,
   "metadata": {},
   "outputs": [
    {
     "name": "stdout",
     "output_type": "stream",
     "text": [
      "กณิกนันต์\r\n",
      "กะ-นิก-นัน \r\n"
     ]
    }
   ],
   "source": [
    "!python3 g2p.py --text กณิกนันต์"
   ]
  },
  {
   "cell_type": "code",
   "execution_count": 239,
   "metadata": {},
   "outputs": [
    {
     "name": "stdout",
     "output_type": "stream",
     "text": [
      "ฮาเร็ม\n",
      "ฮา-เร็ม \n"
     ]
    }
   ],
   "source": [
    "!python3 g2p.py --text ฮาเร็ม"
   ]
  },
  {
   "cell_type": "code",
   "execution_count": 240,
   "metadata": {},
   "outputs": [
    {
     "name": "stdout",
     "output_type": "stream",
     "text": [
      "ฮาจญ์\r\n",
      "ฮาด \r\n"
     ]
    }
   ],
   "source": [
    "!python3 g2p.py --text ฮาจญ์"
   ]
  },
  {
   "cell_type": "code",
   "execution_count": 241,
   "metadata": {},
   "outputs": [
    {
     "name": "stdout",
     "output_type": "stream",
     "text": [
      "ฑาหะ\r\n",
      "ทา-หะ \r\n"
     ]
    }
   ],
   "source": [
    "!python3 g2p.py --text ฑาหะ"
   ]
  },
  {
   "cell_type": "code",
   "execution_count": 242,
   "metadata": {},
   "outputs": [
    {
     "name": "stdout",
     "output_type": "stream",
     "text": [
      "ฑังส\n",
      "ดัง-สบ \n"
     ]
    }
   ],
   "source": [
    "!python3 g2p.py --text ฑังส"
   ]
  },
  {
   "cell_type": "code",
   "execution_count": 243,
   "metadata": {},
   "outputs": [
    {
     "name": "stdout",
     "output_type": "stream",
     "text": [
      "พจชรดลญา\r\n",
      "พด-ชะ-ระ-ดน-ละ-ยา \r\n"
     ]
    }
   ],
   "source": [
    "!python3 g2p.py --text พจชรดลญา"
   ]
  },
  {
   "cell_type": "code",
   "execution_count": 244,
   "metadata": {},
   "outputs": [
    {
     "name": "stdout",
     "output_type": "stream",
     "text": [
      "กาฬโรค\n",
      "กาน-ละ-โรก \n"
     ]
    }
   ],
   "source": [
    "!python3 g2p.py --text กาฬโรค"
   ]
  },
  {
   "cell_type": "code",
   "execution_count": 245,
   "metadata": {},
   "outputs": [
    {
     "name": "stdout",
     "output_type": "stream",
     "text": [
      "มาทะ\r\n",
      "มา-ทะ \r\n"
     ]
    }
   ],
   "source": [
    "!python3 g2p.py --text มาทะ"
   ]
  },
  {
   "cell_type": "code",
   "execution_count": 246,
   "metadata": {},
   "outputs": [
    {
     "name": "stdout",
     "output_type": "stream",
     "text": [
      "มะนาว\r\n",
      "แตงโม\r\n",
      "ส้ม\r\n",
      "หล่น\r\n",
      "มะ-นาว แตง-โม ส้ม หฺน่น \r\n"
     ]
    }
   ],
   "source": [
    "!python3 g2p.py --text มะนาวแตงโมส้มหล่น"
   ]
  },
  {
   "cell_type": "code",
   "execution_count": 247,
   "metadata": {},
   "outputs": [
    {
     "name": "stdout",
     "output_type": "stream",
     "text": [
      "จัน-โอ-ชา \r\n"
     ]
    }
   ],
   "source": [
    "!python3 g2p.py --text จันทร์โอชา --wordcut n"
   ]
  },
  {
   "cell_type": "code",
   "execution_count": 257,
   "metadata": {},
   "outputs": [
    {
     "name": "stdout",
     "output_type": "stream",
     "text": [
      "เคฺรือ-งาม \r\n"
     ]
    }
   ],
   "source": [
    "!python3 g2p.py --text \"เครือ งาม\" --wordcut n"
   ]
  },
  {
   "cell_type": "code",
   "execution_count": 249,
   "metadata": {},
   "outputs": [
    {
     "name": "stdout",
     "output_type": "stream",
     "text": [
      "วง-สุ-วัน \r\n"
     ]
    }
   ],
   "source": [
    "!python3 g2p.py --text \"วงษ์สุวรรณ\" --wordcut n"
   ]
  },
  {
   "cell_type": "code",
   "execution_count": 250,
   "metadata": {},
   "outputs": [
    {
     "name": "stdout",
     "output_type": "stream",
     "text": [
      "พัด-ทิ-ยะ-ไพ-บูน \r\n"
     ]
    }
   ],
   "source": [
    "!python3 g2p.py --text \"ภัททิยไพบูลย์\" --wordcut n"
   ]
  },
  {
   "cell_type": "code",
   "execution_count": 256,
   "metadata": {},
   "outputs": [
    {
     "name": "stdout",
     "output_type": "stream",
     "text": [
      "มหาวิทยาลัย\n",
      " \n",
      "ขอนแก่น\n",
      " \n",
      "วิทยาเขต\n",
      "หนองคาย\n",
      "มะ-หา-วิด-ทะ-ยา-ไล   ขอน-แก่น   วิด-ทะ-ยา-เขด หฺนอง-คาย \n"
     ]
    }
   ],
   "source": [
    "!python3 g2p.py --text \"มหาวิทยาลัย ขอนแก่น วิทยาเขตหนองคาย\""
   ]
  },
  {
   "cell_type": "code",
   "execution_count": 255,
   "metadata": {},
   "outputs": [
    {
     "name": "stdout",
     "output_type": "stream",
     "text": [
      "จุฬาลงกรณ์\r\n",
      " \r\n",
      "มหาวิทยาลัย\r\n",
      "จุ-ลา-ลง-กอน   มะ-หา-วิด-ทะ-ยา-ไล \r\n"
     ]
    }
   ],
   "source": [
    "!python3 g2p.py --text \"จุฬาลงกรณ์ มหาวิทยาลัย\""
   ]
  },
  {
   "cell_type": "code",
   "execution_count": 253,
   "metadata": {},
   "outputs": [
    {
     "name": "stdout",
     "output_type": "stream",
     "text": [
      "มหาวิทยาลัย\n",
      " \n",
      "เกษตรศาสตร์\n",
      "มะ-หา-วิด-ทะ-ยา-ไล   กะ-เสด-สาด \n"
     ]
    }
   ],
   "source": [
    "!python3 g2p.py --text \"มหาวิทยาลัย เกษตรศาสตร์\""
   ]
  },
  {
   "cell_type": "code",
   "execution_count": null,
   "metadata": {},
   "outputs": [],
   "source": []
  }
 ],
 "metadata": {
  "kernelspec": {
   "display_name": "Python 3",
   "language": "python",
   "name": "python3"
  },
  "language_info": {
   "codemirror_mode": {
    "name": "ipython",
    "version": 3
   },
   "file_extension": ".py",
   "mimetype": "text/x-python",
   "name": "python",
   "nbconvert_exporter": "python",
   "pygments_lexer": "ipython3",
   "version": "3.6.9"
  }
 },
 "nbformat": 4,
 "nbformat_minor": 4
}
